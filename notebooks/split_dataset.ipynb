{
 "cells": [
  {
   "cell_type": "code",
   "execution_count": 5,
   "id": "9423ec70",
   "metadata": {},
   "outputs": [
    {
     "name": "stdout",
     "output_type": "stream",
     "text": [
      "📁 Directorio de datos creado en: /home/lynn/Documentos/development/scripts-notebooks/feast-aws-deepchecks/data\n",
      "✅ Train guardado en: /home/lynn/Documentos/development/scripts-notebooks/feast-aws-deepchecks/data/train.parquet\n",
      "✅ Test  guardado en: /home/lynn/Documentos/development/scripts-notebooks/feast-aws-deepchecks/data/test.parquet\n"
     ]
    }
   ],
   "source": [
    "import sys\n",
    "from pathlib import Path\n",
    "sys.path.append(str(Path.cwd().parent))\n",
    "from src.load_data import load_data\n",
    "from sklearn.model_selection import train_test_split\n",
    "\n",
    "# 1) Define el directorio raíz del proyecto y el subdirectorio 'data'\n",
    "root_dir = Path().cwd().parent\n",
    "data_dir = root_dir / 'data'\n",
    "\n",
    "# 2) Crea 'data/' si no existe\n",
    "if not data_dir.exists():\n",
    "    data_dir.mkdir(parents=True, exist_ok=True)\n",
    "    print(f\"📁 Directorio de datos creado en: {data_dir}\")\n",
    "\n",
    "# 3) Carga el DataFrame\n",
    "df = load_data()\n",
    "\n",
    "# 4) Separa en train (70%) y test (30%) estratificado por 'target'\n",
    "train_df, test_df = train_test_split(\n",
    "    df,\n",
    "    test_size=0.3,\n",
    "    stratify=df['target'],\n",
    "    random_state=42,\n",
    ")\n",
    "\n",
    "# 5) Rutas de salida en formato Parquet\n",
    "train_path = data_dir / 'train.parquet'\n",
    "test_path  = data_dir / 'test.parquet'\n",
    "\n",
    "# 6) Guarda los archivos\n",
    "train_df.to_parquet(train_path, index=False)\n",
    "test_df.to_parquet(test_path, index=False)\n",
    "\n",
    "print(f'✅ Train guardado en: {train_path}')\n",
    "print(f'✅ Test  guardado en: {test_path}')"
   ]
  }
 ],
 "metadata": {
  "kernelspec": {
   "display_name": ".venv",
   "language": "python",
   "name": "python3"
  },
  "language_info": {
   "codemirror_mode": {
    "name": "ipython",
    "version": 3
   },
   "file_extension": ".py",
   "mimetype": "text/x-python",
   "name": "python",
   "nbconvert_exporter": "python",
   "pygments_lexer": "ipython3",
   "version": "3.12.10"
  }
 },
 "nbformat": 4,
 "nbformat_minor": 5
}
